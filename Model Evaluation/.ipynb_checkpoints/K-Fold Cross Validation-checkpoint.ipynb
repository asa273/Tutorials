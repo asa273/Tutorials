{
 "cells": [
  {
   "cell_type": "markdown",
   "metadata": {},
   "source": [
    "## K-Fold Cross Validation"
   ]
  },
  {
   "cell_type": "markdown",
   "metadata": {},
   "source": [
    "### References"
   ]
  },
  {
   "cell_type": "markdown",
   "metadata": {},
   "source": [
    "https://machinelearningmastery.com/how-to-configure-k-fold-cross-validation/"
   ]
  },
  {
   "cell_type": "markdown",
   "metadata": {},
   "source": [
    "### Module Imports"
   ]
  },
  {
   "cell_type": "code",
   "execution_count": 28,
   "metadata": {
    "ExecuteTime": {
     "end_time": "2020-07-31T12:34:39.166032Z",
     "start_time": "2020-07-31T12:34:39.161017Z"
    }
   },
   "outputs": [],
   "source": [
    "import numpy as np\n",
    "import pandas as pd\n",
    "\n",
    "from sklearn.datasets import make_classification\n",
    "from sklearn.model_selection import KFold\n",
    "from sklearn.model_selection import cross_val_score\n",
    "from sklearn.model_selection import LeaveOneOut\n",
    "\n",
    "from sklearn.linear_model import LogisticRegression\n",
    "\n",
    "import matplotlib.pyplot as plt"
   ]
  },
  {
   "cell_type": "markdown",
   "metadata": {},
   "source": [
    "### Synthetic data for classification"
   ]
  },
  {
   "cell_type": "code",
   "execution_count": 29,
   "metadata": {
    "ExecuteTime": {
     "end_time": "2020-07-31T12:34:40.449702Z",
     "start_time": "2020-07-31T12:34:40.440682Z"
    }
   },
   "outputs": [
    {
     "name": "stdout",
     "output_type": "stream",
     "text": [
      "X: (100, 20) y: (100,)\n",
      "\n",
      "X[0]: [ 4.04836854 -2.67724481  2.11332947  2.61093054  1.34714903 -2.39341203\n",
      "  0.44968979  5.32845414  0.44252193 -1.06407781 -0.73047263 -1.69107117\n",
      " -2.34955263  0.91298313 -0.09274909  1.68426984 -2.06126239  0.81752446\n",
      " -3.15597168  4.3360414 ]\n",
      "\n",
      "y[0]: 1\n"
     ]
    }
   ],
   "source": [
    "# define dataset\n",
    "\n",
    "# NOTE: The fixed seed (random_state = 1) for the pseudorandom number generator ensures that \n",
    "# we get the same samples each time the dataset is generated.\n",
    "X, y = make_classification(n_samples=100, n_features=20, n_informative=15, n_redundant=5, n_classes=2, random_state = 1)\n",
    "\n",
    "# dataset info\n",
    "print('X:', X.shape, 'y:', y.shape)\n",
    "\n",
    "# Let's print the first observation\n",
    "print('\\nX[0]:', X[0])\n",
    "\n",
    "print('\\ny[0]:', y[0])"
   ]
  },
  {
   "cell_type": "markdown",
   "metadata": {},
   "source": [
    "### Simple logistic regression model and cross validation"
   ]
  },
  {
   "cell_type": "code",
   "execution_count": 3,
   "metadata": {
    "ExecuteTime": {
     "end_time": "2020-07-31T11:05:56.501164Z",
     "start_time": "2020-07-31T11:05:56.349760Z"
    }
   },
   "outputs": [
    {
     "name": "stdout",
     "output_type": "stream",
     "text": [
      "Mean Accuracy = 0.85 and Std of Accuracy = 0.1284523257866513\n"
     ]
    }
   ],
   "source": [
    "# prepare the cross-validation procedure, which creates 10-folds with shuffled dataset.\n",
    "cv = KFold(n_splits=10, random_state=1, shuffle=True)\n",
    "\n",
    "# let's create the model\n",
    "model = LogisticRegression()\n",
    "\n",
    "# evaluate the model with cross validation score\n",
    "scores = cross_val_score(estimator=model, X = X, y = y, cv = cv)\n",
    "\n",
    "# performance with respect to cross validation scores\n",
    "print(f'Mean Accuracy = {scores.mean()} and Std of Accuracy = {scores.std()}')"
   ]
  },
  {
   "cell_type": "markdown",
   "metadata": {},
   "source": [
    "### Sensitivity Analysis for K-Fold\n",
    "\n",
    "What is the optimal value of K in the K-fold cross validation?"
   ]
  },
  {
   "cell_type": "code",
   "execution_count": 30,
   "metadata": {
    "ExecuteTime": {
     "end_time": "2020-07-31T12:34:44.550666Z",
     "start_time": "2020-07-31T12:34:44.544650Z"
    }
   },
   "outputs": [],
   "source": [
    "def get_model_performance(cv, model, X, y):\n",
    "    scores = cross_val_score(estimator=model, X = X, y = y, cv = cv)\n",
    "    \n",
    "    mean_score = scores.mean()\n",
    "    std_score = scores.std()\n",
    "    min_score = scores.min()\n",
    "    max_score = scores.max()\n",
    "    \n",
    "    return mean_score, min_score, max_score"
   ]
  },
  {
   "cell_type": "code",
   "execution_count": 45,
   "metadata": {
    "ExecuteTime": {
     "end_time": "2020-07-31T12:45:14.060279Z",
     "start_time": "2020-07-31T12:45:13.249197Z"
    }
   },
   "outputs": [],
   "source": [
    "# One of the computationally expensive, but more accurate estimate of the model \n",
    "# performance evaluation method is Leave-One-Out Cross Validation (LOOCV).\n",
    "cv = LeaveOneOut()\n",
    "model = LogisticRegression()\n",
    "\n",
    "# Score for Leave-One-Out CV\n",
    "ideal, _, _ = get_model_performance(cv, model, X, y)"
   ]
  },
  {
   "cell_type": "code",
   "execution_count": 43,
   "metadata": {
    "ExecuteTime": {
     "end_time": "2020-07-31T12:43:46.362276Z",
     "start_time": "2020-07-31T12:43:42.562493Z"
    }
   },
   "outputs": [],
   "source": [
    "model = LogisticRegression()\n",
    "\n",
    "k_vals = range(2, 31)\n",
    "\n",
    "mean_score = []\n",
    "min_score = []\n",
    "max_score = []\n",
    "\n",
    "for k in k_vals:\n",
    "    cv = KFold(n_splits=k, shuffle=True, random_state = 1)\n",
    "    t1, t2, t3 = get_model_performance(cv = cv, model = model,  X = X, y = y)\n",
    "    mean_score.append(t1)\n",
    "    min_score.append(t1 - t2)\n",
    "    max_score.append(t3 - t1)\n",
    "    \n"
   ]
  },
  {
   "cell_type": "code",
   "execution_count": 39,
   "metadata": {
    "ExecuteTime": {
     "end_time": "2020-07-31T12:41:07.957017Z",
     "start_time": "2020-07-31T12:41:07.952002Z"
    }
   },
   "outputs": [
    {
     "data": {
      "text/plain": [
       "array([], dtype=float64)"
      ]
     },
     "execution_count": 39,
     "metadata": {},
     "output_type": "execute_result"
    }
   ],
   "source": [
    "mean_score"
   ]
  },
  {
   "cell_type": "code",
   "execution_count": 60,
   "metadata": {
    "ExecuteTime": {
     "end_time": "2020-07-31T12:48:43.838742Z",
     "start_time": "2020-07-31T12:48:43.625669Z"
    }
   },
   "outputs": [
    {
     "data": {
      "image/png": "[encoded data removed]",
      "text/plain": [
       "<Figure size 864x432 with 1 Axes>"
      ]
     },
     "metadata": {
      "needs_background": "light"
     },
     "output_type": "display_data"
    }
   ],
   "source": [
    "plt.figure(figsize = [12, 6])\n",
    "plt.errorbar(x = k_vals, y = mean_score, yerr = [min_score, max_score], fmt = 'o', label = 'K-Fold')\n",
    "plt.plot(k_vals, np.ones(len(list(k_vals)))*ideal, 'r', label = 'Leave-One-Out')\n",
    "plt.legend()\n",
    "plt.show()"
   ]
  },
  {
   "cell_type": "code",
   "execution_count": null,
   "metadata": {},
   "outputs": [],
   "source": []
  }
 ],
 "metadata": {
  "kernelspec": {
   "display_name": "Python 3",
   "language": "python",
   "name": "python3"
  },
  "language_info": {
   "codemirror_mode": {
    "name": "ipython",
    "version": 3
   },
   "file_extension": ".py",
   "mimetype": "text/x-python",
   "name": "python",
   "nbconvert_exporter": "python",
   "pygments_lexer": "ipython3",
   "version": "3.7.7"
  },
  "toc": {
   "base_numbering": 1,
   "nav_menu": {},
   "number_sections": false,
   "sideBar": true,
   "skip_h1_title": false,
   "title_cell": "Table of Contents",
   "title_sidebar": "Contents",
   "toc_cell": false,
   "toc_position": {
    "height": "calc(100% - 180px)",
    "left": "10px",
    "top": "150px",
    "width": "384px"
   },
   "toc_section_display": true,
   "toc_window_display": true
  },
  "varInspector": {
   "cols": {
    "lenName": 16,
    "lenType": 16,
    "lenVar": 40
   },
   "kernels_config": {
    "python": {
     "delete_cmd_postfix": "",
     "delete_cmd_prefix": "del ",
     "library": "var_list.py",
     "varRefreshCmd": "print(var_dic_list())"
    },
    "r": {
     "delete_cmd_postfix": ") ",
     "delete_cmd_prefix": "rm(",
     "library": "var_list.r",
     "varRefreshCmd": "cat(var_dic_list()) "
    }
   },
   "types_to_exclude": [
    "module",
    "function",
    "builtin_function_or_method",
    "instance",
    "_Feature"
   ],
   "window_display": false
  }
 },
 "nbformat": 4,
 "nbformat_minor": 4
}
